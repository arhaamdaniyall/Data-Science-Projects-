{
 "cells": [
  {
   "cell_type": "markdown",
   "id": "a48b00fe",
   "metadata": {},
   "source": [
    "## INSTRUCTIONS \n",
    "\n",
    "Every learner should submit his/her own homework solutions. However, you are allowed to discuss the homework with each other– but everyone must submit his/her own solution; you may not copy someone else’s solution. \n",
    "\n",
    "The homework consists of two parts:\n",
    "1. Data from our lives\t\n",
    "2. Data manipulation/Exploratory Data Analysis\n",
    "3. Multipe regression Analysis\n",
    "\n",
    "Follow the prompts in the attached jupyter notebook. Download the data and place it in your working directory, or modify the path to upload it to your notebook. Add markdown cells to your analysis to include your solutions, comments, answers. **Add as many cells as you need**, for easy readability comment when possible.\n",
    "Hopefully this homework will help you develop skills, make you understand the flow of an EDA, get you ready for individual work.\n",
    "\n",
    "Submission: Send in both a ipynb and a pdf file of your work. \n",
    "\n",
    "Good luck!\n"
   ]
  },
  {
   "cell_type": "markdown",
   "id": "c425df13",
   "metadata": {},
   "source": [
    "## 1. Data from our Lives"
   ]
  },
  {
   "cell_type": "markdown",
   "id": "bb80903a",
   "metadata": {},
   "source": [
    "### Describe a situation or problem from your job, everyday life, current events, etc., for which a regression model would be appropriate. List some (up to 5) predictors that you might use."
   ]
  },
  {
   "cell_type": "markdown",
   "id": "7cecdb5a",
   "metadata": {},
   "source": [
    "**your answer should go here**\n",
    "\n"
   ]
  },
  {
   "cell_type": "markdown",
   "id": "3cacba56",
   "metadata": {},
   "source": [
    "A Real Life situation where a regression model would be appropriate is in predicting the** LOAN RISK PREDICTION**. Through this system we can predict whether that particular applicant is safe or not to get a LOAN. while deciding weater to grant or not grant loan various features play a role these features are namely Credit History, Cash Flow (or Capacity), Collateral, Capitalization and Conditions.factors, making regression analysis a valuable tool for estimating the loan risk .The above mentioned features care used as predictors to predict wheter to grant or not grant a Loan :\n",
    "\n",
    "1.**Credit History**: This is like a report card for borrowers. If someone has paid back loans on time before, banks are more likely to trust them. But if they haven’t, banks might worry if they'll pay back this time.\n",
    "\n",
    "2.**Cash Flow** (or Capacity): Banks want to make sure borrowers have enough money to pay back loans. They look at how much money someone makes, how much they spend, and if there’s enough left over to pay back the loan without causing money problems.\n",
    "\n",
    "3.**Collateral**: Think of this as a safety net. Borrowers offer something valuable, like a house, as a guarantee. If they can’t pay back the loan, the bank can sell this valuable thing to get its money back.\n",
    "\n",
    "4.**Capitalization**: The financial strength and capital reserves of a borrower are considered. Higher capitalization implies a greater ability to absorb financial setbacks and repay loans.\n",
    "\n",
    "5.**Conditions**: Economic and market conditions, both locally and globally, are factors that banks assess. Changes in conditions can affect a borrower's ability to repay, and banks consider these external factors when evaluating loan risk.\n",
    "\n",
    "By collecting data on these predictors and applying regression analysis, we can build a model to estimate the loan risk , which can be useful for banks to decide wheter to grant a loan or not.\n"
   ]
  },
  {
   "cell_type": "markdown",
   "id": "88646bc4",
   "metadata": {},
   "source": [
    "## The data"
   ]
  },
  {
   "cell_type": "markdown",
   "id": "26855a3f",
   "metadata": {},
   "source": [
    "**Title: 1985 Auto Imports Database**\n",
    "\n",
    "Relevant Information:\n",
    "   -- Description\n",
    "      This data set consists of three types of entities: (a) the\n",
    "      specification of an auto in terms of various characteristics, (b)\n",
    "      its assigned insurance risk rating, (c) its normalized losses in use\n",
    "      as compared to other cars.  The second rating corresponds to the\n",
    "      degree to which the auto is more risky than its price indicates.\n",
    "      Cars are initially assigned a risk factor symbol associated with its\n",
    "      price.   Then, if it is more risky (or less), this symbol is\n",
    "      adjusted by moving it up (or down) the scale.  Actuarians call this\n",
    "      process \"symboling\".  A value of +3 indicates that the auto is\n",
    "      risky, -3 that it is probably pretty safe.\n",
    "\n",
    "      The third factor is the relative average loss payment per insured\n",
    "      vehicle year.  This value is normalized for all autos within a\n",
    "      particular size classification (two-door small, station wagons,\n",
    "      sports/speciality, etc...), and represents the average loss per car\n",
    "      per year.\n",
    "\n",
    "   -- Note: Several of the attributes in the database could be used as a\n",
    "            \"class\" attribute.\n",
    "\n",
    "5. Number of Instances: 205\n",
    "\n",
    "6. Number of Attributes: 26 total\n",
    "  1 integer\n",
    "   -- 10 nominal\n",
    "-- 15 continuous\n",
    "7. Attribute Information:     \n",
    "     Attribute:                Attribute Range:\n",
    "     ------------------        -----------------------------------------------\n",
    "  1. symboling:                -3, -2, -1, 0, 1, 2, 3.\n",
    "  2. normalized-losses:        continuous from 65 to 256.\n",
    "  3. make:                     alfa-romero, audi, bmw, chevrolet, dodge, honda,isuzu, jaguar, mazda, mercedes-benz, mercury, mitsubishi, nissan, peugot, plymouth, porsc -- 15 continuous\n",
    "   -- he, renault, saab, subaru, toyota,volkswagen, volvo\n",
    "  4. fuel-type:                diesel, gas.\n",
    "  5. aspiration:               std, turbo.\n",
    "  6. num-of-doors:             four, two.\n",
    "  7. body-style:               hardtop, wagon, sedan, hatchback, convertible.\n",
    "  8. drive-wheels:             4wd, fwd, rwd.\n",
    "  9. engine-location:          front, rear.\n",
    " 10. wheel-base:               continuous from 86.6 120.9.\n",
    " 11. length:                   continuous from 141.1 to 208.1.\n",
    " 12. width:                    continuous from 60.3 to 72.3.\n",
    " 13. height:                   continuous from 47.8 to 59.8.\n",
    " 14. curb-weight:              continuous from 1488 to 4066.\n",
    " 15. engine-type:              dohc, dohcv, l, ohc, ohcf, ohcv, rotor.\n",
    " 16. num-of-cylinders:         eight, five, four, six, three, twelve, two.\n",
    " 17. engine-size:              continuous from 61 to 326.\n",
    " 18. fuel-system:              1bbl, 2bbl, 4bbl, idi, mfi, mpfi, spdi, spfi.\n",
    " 19. bore:                     continuous from 2.54 to 3.94.\n",
    " 20. stroke:                   continuous from 2.07 to 4.17.\n",
    " 21. compression-ratio:        continuous from 7 to 23.\n",
    " 22. horsepower:               continuous from 48 to 288.\n",
    " 23. peak-rpm:                 continuous from 4150 to 6600.\n",
    " 24. city-mpg:                 continuous from 13 to 49.\n",
    " 25. highway-mpg:              continuous from 16 to 54.\n",
    " 26. price:                    continuous from 5118 to 45400.\n",
    "\n",
    "8. Missing Attribute Values: (denoted by \"?\")"
   ]
  },
  {
   "cell_type": "code",
   "execution_count": 2,
   "id": "cd0f90ba",
   "metadata": {},
   "outputs": [],
   "source": [
    "from scipy import stats\n",
    "from sklearn.linear_model import LinearRegression\n",
    "from statsmodels.compat import lzip\n",
    "from statsmodels.formula.api import ols\n",
    "from statsmodels.stats.anova import anova_lm\n",
    "from statsmodels.stats.outliers_influence import variance_inflation_factor\n",
    "import matplotlib\n",
    "import matplotlib.pyplot as plt\n",
    "import numpy as np\n",
    "import pandas as pd\n",
    "import seaborn as sns\n",
    "import statsmodels.api as sm\n",
    "\n",
    "%matplotlib inline"
   ]
  },
  {
   "cell_type": "code",
   "execution_count": 3,
   "id": "6b9fa984",
   "metadata": {},
   "outputs": [
    {
     "data": {
      "text/html": [
       "<div>\n",
       "<style scoped>\n",
       "    .dataframe tbody tr th:only-of-type {\n",
       "        vertical-align: middle;\n",
       "    }\n",
       "\n",
       "    .dataframe tbody tr th {\n",
       "        vertical-align: top;\n",
       "    }\n",
       "\n",
       "    .dataframe thead th {\n",
       "        text-align: right;\n",
       "    }\n",
       "</style>\n",
       "<table border=\"1\" class=\"dataframe\">\n",
       "  <thead>\n",
       "    <tr style=\"text-align: right;\">\n",
       "      <th></th>\n",
       "      <th>fuel_type</th>\n",
       "      <th>body</th>\n",
       "      <th>wheel_base</th>\n",
       "      <th>length</th>\n",
       "      <th>width</th>\n",
       "      <th>heights</th>\n",
       "      <th>curb_weight</th>\n",
       "      <th>engine_type</th>\n",
       "      <th>cylinders</th>\n",
       "      <th>engine_size</th>\n",
       "      <th>bore</th>\n",
       "      <th>stroke</th>\n",
       "      <th>comprassion</th>\n",
       "      <th>horse_power</th>\n",
       "      <th>peak_rpm</th>\n",
       "      <th>city_mpg</th>\n",
       "      <th>highway_mpg</th>\n",
       "      <th>price</th>\n",
       "    </tr>\n",
       "  </thead>\n",
       "  <tbody>\n",
       "    <tr>\n",
       "      <th>0</th>\n",
       "      <td>gas</td>\n",
       "      <td>convertible</td>\n",
       "      <td>88.6</td>\n",
       "      <td>168.8</td>\n",
       "      <td>64.1</td>\n",
       "      <td>48.8</td>\n",
       "      <td>2548</td>\n",
       "      <td>dohc</td>\n",
       "      <td>four</td>\n",
       "      <td>130</td>\n",
       "      <td>3.47</td>\n",
       "      <td>2.68</td>\n",
       "      <td>9.0</td>\n",
       "      <td>111</td>\n",
       "      <td>5000</td>\n",
       "      <td>21</td>\n",
       "      <td>27</td>\n",
       "      <td>13495</td>\n",
       "    </tr>\n",
       "    <tr>\n",
       "      <th>1</th>\n",
       "      <td>gas</td>\n",
       "      <td>convertible</td>\n",
       "      <td>88.6</td>\n",
       "      <td>168.8</td>\n",
       "      <td>64.1</td>\n",
       "      <td>48.8</td>\n",
       "      <td>2548</td>\n",
       "      <td>dohc</td>\n",
       "      <td>four</td>\n",
       "      <td>130</td>\n",
       "      <td>3.47</td>\n",
       "      <td>2.68</td>\n",
       "      <td>9.0</td>\n",
       "      <td>111</td>\n",
       "      <td>5000</td>\n",
       "      <td>21</td>\n",
       "      <td>27</td>\n",
       "      <td>16500</td>\n",
       "    </tr>\n",
       "    <tr>\n",
       "      <th>2</th>\n",
       "      <td>gas</td>\n",
       "      <td>hatchback</td>\n",
       "      <td>94.5</td>\n",
       "      <td>171.2</td>\n",
       "      <td>65.5</td>\n",
       "      <td>52.4</td>\n",
       "      <td>2823</td>\n",
       "      <td>ohcv</td>\n",
       "      <td>six</td>\n",
       "      <td>152</td>\n",
       "      <td>2.68</td>\n",
       "      <td>3.47</td>\n",
       "      <td>9.0</td>\n",
       "      <td>154</td>\n",
       "      <td>5000</td>\n",
       "      <td>19</td>\n",
       "      <td>26</td>\n",
       "      <td>16500</td>\n",
       "    </tr>\n",
       "    <tr>\n",
       "      <th>3</th>\n",
       "      <td>gas</td>\n",
       "      <td>sedan</td>\n",
       "      <td>99.8</td>\n",
       "      <td>176.6</td>\n",
       "      <td>66.2</td>\n",
       "      <td>54.3</td>\n",
       "      <td>2337</td>\n",
       "      <td>ohc</td>\n",
       "      <td>four</td>\n",
       "      <td>109</td>\n",
       "      <td>3.19</td>\n",
       "      <td>3.4</td>\n",
       "      <td>10.0</td>\n",
       "      <td>102</td>\n",
       "      <td>5500</td>\n",
       "      <td>24</td>\n",
       "      <td>30</td>\n",
       "      <td>13950</td>\n",
       "    </tr>\n",
       "    <tr>\n",
       "      <th>4</th>\n",
       "      <td>gas</td>\n",
       "      <td>sedan</td>\n",
       "      <td>99.4</td>\n",
       "      <td>176.6</td>\n",
       "      <td>66.4</td>\n",
       "      <td>54.3</td>\n",
       "      <td>2824</td>\n",
       "      <td>ohc</td>\n",
       "      <td>five</td>\n",
       "      <td>136</td>\n",
       "      <td>3.19</td>\n",
       "      <td>3.4</td>\n",
       "      <td>8.0</td>\n",
       "      <td>115</td>\n",
       "      <td>5500</td>\n",
       "      <td>18</td>\n",
       "      <td>22</td>\n",
       "      <td>17450</td>\n",
       "    </tr>\n",
       "  </tbody>\n",
       "</table>\n",
       "</div>"
      ],
      "text/plain": [
       "  fuel_type         body  wheel_base  length  width  heights  curb_weight  \\\n",
       "0       gas  convertible        88.6   168.8   64.1     48.8         2548   \n",
       "1       gas  convertible        88.6   168.8   64.1     48.8         2548   \n",
       "2       gas    hatchback        94.5   171.2   65.5     52.4         2823   \n",
       "3       gas        sedan        99.8   176.6   66.2     54.3         2337   \n",
       "4       gas        sedan        99.4   176.6   66.4     54.3         2824   \n",
       "\n",
       "  engine_type cylinders  engine_size  bore stroke  comprassion horse_power  \\\n",
       "0        dohc      four          130  3.47   2.68          9.0         111   \n",
       "1        dohc      four          130  3.47   2.68          9.0         111   \n",
       "2        ohcv       six          152  2.68   3.47          9.0         154   \n",
       "3         ohc      four          109  3.19    3.4         10.0         102   \n",
       "4         ohc      five          136  3.19    3.4          8.0         115   \n",
       "\n",
       "  peak_rpm  city_mpg  highway_mpg  price  \n",
       "0     5000        21           27  13495  \n",
       "1     5000        21           27  16500  \n",
       "2     5000        19           26  16500  \n",
       "3     5500        24           30  13950  \n",
       "4     5500        18           22  17450  "
      ]
     },
     "execution_count": 3,
     "metadata": {},
     "output_type": "execute_result"
    }
   ],
   "source": [
    "#Read in data\n",
    "df =pd.read_csv(\"C:\\\\Users\\\\ARHAAM DANIYAL SYED\\\\Desktop\\\\auto_imports1.csv\")\n",
    "\n",
    "df.head()"
   ]
  },
  {
   "cell_type": "markdown",
   "id": "0612a859",
   "metadata": {},
   "source": [
    "## 2. Data "
   ]
  },
  {
   "cell_type": "markdown",
   "id": "a83025f2",
   "metadata": {},
   "source": [
    "## 2.1 Munging"
   ]
  },
  {
   "cell_type": "markdown",
   "id": "c6609441",
   "metadata": {},
   "source": [
    "Check what types of variables do you have in your data? Do you see anything that doesn't make sense? *Hint: horse power is  an object ?!*"
   ]
  },
  {
   "cell_type": "code",
   "execution_count": 4,
   "id": "31653e17",
   "metadata": {},
   "outputs": [
    {
     "name": "stdout",
     "output_type": "stream",
     "text": [
      "<class 'pandas.core.frame.DataFrame'>\n",
      "RangeIndex: 201 entries, 0 to 200\n",
      "Data columns (total 18 columns):\n",
      " #   Column       Non-Null Count  Dtype  \n",
      "---  ------       --------------  -----  \n",
      " 0   fuel_type    201 non-null    object \n",
      " 1   body         201 non-null    object \n",
      " 2   wheel_base   201 non-null    float64\n",
      " 3   length       201 non-null    float64\n",
      " 4   width        201 non-null    float64\n",
      " 5   heights      201 non-null    float64\n",
      " 6   curb_weight  201 non-null    int64  \n",
      " 7   engine_type  201 non-null    object \n",
      " 8   cylinders    201 non-null    object \n",
      " 9   engine_size  201 non-null    int64  \n",
      " 10  bore         201 non-null    object \n",
      " 11  stroke       201 non-null    object \n",
      " 12  comprassion  201 non-null    float64\n",
      " 13  horse_power  201 non-null    object \n",
      " 14  peak_rpm     201 non-null    object \n",
      " 15  city_mpg     201 non-null    int64  \n",
      " 16  highway_mpg  201 non-null    int64  \n",
      " 17  price        201 non-null    int64  \n",
      "dtypes: float64(5), int64(5), object(8)\n",
      "memory usage: 28.4+ KB\n"
     ]
    }
   ],
   "source": [
    "##your code here\n",
    "df.info()\n"
   ]
  },
  {
   "cell_type": "markdown",
   "id": "2ae72f0d",
   "metadata": {},
   "source": [
    "here we use the function .info() which gives the information about the data and variables of the data and various data types \n",
    "here we get to know that **bore, stroke, horse_power and peak_rpm**  data type is defined as **object** but as we look at the data it is **float** data type.\n",
    "\n",
    "**object** :When a column has the data type \"object\" in Python, it means that the values in that column can be almost anything. They don't have to be numbers or categories; they can be any kind of thing in Python, like words, dates, or even custom things you create. \n",
    "but here we know that  **bore, stroke, horse_power and peak_rpm** are to be **float** data type "
   ]
  },
  {
   "cell_type": "markdown",
   "id": "bc82db67",
   "metadata": {},
   "source": [
    "### Replace '?' with None\n",
    "\n",
    "### Change the variables: bore, stroke, horse_power, peak_rpm to float64"
   ]
  },
  {
   "cell_type": "code",
   "execution_count": 5,
   "id": "44e48a11",
   "metadata": {},
   "outputs": [],
   "source": [
    "## To Replace ? with NONE we use .replace \n",
    "df.replace('?', None, inplace=True)\n",
    "\n",
    "##changing the dtypes \n",
    "columns= ['bore', 'stroke', 'horse_power', 'peak_rpm']\n",
    "##using astype() function to change the dtype\n",
    "df[columns] = df[columns].astype(float)"
   ]
  },
  {
   "cell_type": "code",
   "execution_count": 6,
   "id": "679c62b9",
   "metadata": {},
   "outputs": [
    {
     "name": "stdout",
     "output_type": "stream",
     "text": [
      "<class 'pandas.core.frame.DataFrame'>\n",
      "RangeIndex: 201 entries, 0 to 200\n",
      "Data columns (total 18 columns):\n",
      " #   Column       Non-Null Count  Dtype  \n",
      "---  ------       --------------  -----  \n",
      " 0   fuel_type    201 non-null    object \n",
      " 1   body         201 non-null    object \n",
      " 2   wheel_base   201 non-null    float64\n",
      " 3   length       201 non-null    float64\n",
      " 4   width        201 non-null    float64\n",
      " 5   heights      201 non-null    float64\n",
      " 6   curb_weight  201 non-null    int64  \n",
      " 7   engine_type  201 non-null    object \n",
      " 8   cylinders    201 non-null    object \n",
      " 9   engine_size  201 non-null    int64  \n",
      " 10  bore         197 non-null    float64\n",
      " 11  stroke       197 non-null    float64\n",
      " 12  comprassion  201 non-null    float64\n",
      " 13  horse_power  199 non-null    float64\n",
      " 14  peak_rpm     199 non-null    float64\n",
      " 15  city_mpg     201 non-null    int64  \n",
      " 16  highway_mpg  201 non-null    int64  \n",
      " 17  price        201 non-null    int64  \n",
      "dtypes: float64(9), int64(5), object(4)\n",
      "memory usage: 28.4+ KB\n"
     ]
    }
   ],
   "source": [
    "df.info()"
   ]
  },
  {
   "cell_type": "markdown",
   "id": "e3e38f59",
   "metadata": {},
   "source": [
    "### Drop body,engine_type,cylinders columns and name the new dataframe df2"
   ]
  },
  {
   "cell_type": "code",
   "execution_count": 7,
   "id": "e376ebf3",
   "metadata": {},
   "outputs": [
    {
     "name": "stdout",
     "output_type": "stream",
     "text": [
      "<class 'pandas.core.frame.DataFrame'>\n",
      "RangeIndex: 201 entries, 0 to 200\n",
      "Data columns (total 15 columns):\n",
      " #   Column       Non-Null Count  Dtype  \n",
      "---  ------       --------------  -----  \n",
      " 0   fuel_type    201 non-null    object \n",
      " 1   wheel_base   201 non-null    float64\n",
      " 2   length       201 non-null    float64\n",
      " 3   width        201 non-null    float64\n",
      " 4   heights      201 non-null    float64\n",
      " 5   curb_weight  201 non-null    int64  \n",
      " 6   engine_size  201 non-null    int64  \n",
      " 7   bore         197 non-null    float64\n",
      " 8   stroke       197 non-null    float64\n",
      " 9   comprassion  201 non-null    float64\n",
      " 10  horse_power  199 non-null    float64\n",
      " 11  peak_rpm     199 non-null    float64\n",
      " 12  city_mpg     201 non-null    int64  \n",
      " 13  highway_mpg  201 non-null    int64  \n",
      " 14  price        201 non-null    int64  \n",
      "dtypes: float64(9), int64(5), object(1)\n",
      "memory usage: 23.7+ KB\n"
     ]
    }
   ],
   "source": [
    "##list of columns to drop\n",
    "columns_dropped = ['body', 'engine_type', 'cylinders']\n",
    "#dropping the columns and naming the new dataframe df2\n",
    "df2 = df.drop(columns=columns_dropped, axis=1)\n",
    "df2.info()\n"
   ]
  },
  {
   "cell_type": "code",
   "execution_count": 8,
   "id": "2da1338f",
   "metadata": {},
   "outputs": [
    {
     "data": {
      "text/html": [
       "<div>\n",
       "<style scoped>\n",
       "    .dataframe tbody tr th:only-of-type {\n",
       "        vertical-align: middle;\n",
       "    }\n",
       "\n",
       "    .dataframe tbody tr th {\n",
       "        vertical-align: top;\n",
       "    }\n",
       "\n",
       "    .dataframe thead th {\n",
       "        text-align: right;\n",
       "    }\n",
       "</style>\n",
       "<table border=\"1\" class=\"dataframe\">\n",
       "  <thead>\n",
       "    <tr style=\"text-align: right;\">\n",
       "      <th></th>\n",
       "      <th>fuel_type</th>\n",
       "      <th>wheel_base</th>\n",
       "      <th>length</th>\n",
       "      <th>width</th>\n",
       "      <th>heights</th>\n",
       "      <th>curb_weight</th>\n",
       "      <th>engine_size</th>\n",
       "      <th>bore</th>\n",
       "      <th>stroke</th>\n",
       "      <th>comprassion</th>\n",
       "      <th>horse_power</th>\n",
       "      <th>peak_rpm</th>\n",
       "      <th>city_mpg</th>\n",
       "      <th>highway_mpg</th>\n",
       "      <th>price</th>\n",
       "    </tr>\n",
       "  </thead>\n",
       "  <tbody>\n",
       "    <tr>\n",
       "      <th>0</th>\n",
       "      <td>gas</td>\n",
       "      <td>88.6</td>\n",
       "      <td>168.8</td>\n",
       "      <td>64.1</td>\n",
       "      <td>48.8</td>\n",
       "      <td>2548</td>\n",
       "      <td>130</td>\n",
       "      <td>3.47</td>\n",
       "      <td>2.68</td>\n",
       "      <td>9.0</td>\n",
       "      <td>111.0</td>\n",
       "      <td>5000.0</td>\n",
       "      <td>21</td>\n",
       "      <td>27</td>\n",
       "      <td>13495</td>\n",
       "    </tr>\n",
       "    <tr>\n",
       "      <th>1</th>\n",
       "      <td>gas</td>\n",
       "      <td>88.6</td>\n",
       "      <td>168.8</td>\n",
       "      <td>64.1</td>\n",
       "      <td>48.8</td>\n",
       "      <td>2548</td>\n",
       "      <td>130</td>\n",
       "      <td>3.47</td>\n",
       "      <td>2.68</td>\n",
       "      <td>9.0</td>\n",
       "      <td>111.0</td>\n",
       "      <td>5000.0</td>\n",
       "      <td>21</td>\n",
       "      <td>27</td>\n",
       "      <td>16500</td>\n",
       "    </tr>\n",
       "    <tr>\n",
       "      <th>2</th>\n",
       "      <td>gas</td>\n",
       "      <td>94.5</td>\n",
       "      <td>171.2</td>\n",
       "      <td>65.5</td>\n",
       "      <td>52.4</td>\n",
       "      <td>2823</td>\n",
       "      <td>152</td>\n",
       "      <td>2.68</td>\n",
       "      <td>3.47</td>\n",
       "      <td>9.0</td>\n",
       "      <td>154.0</td>\n",
       "      <td>5000.0</td>\n",
       "      <td>19</td>\n",
       "      <td>26</td>\n",
       "      <td>16500</td>\n",
       "    </tr>\n",
       "    <tr>\n",
       "      <th>3</th>\n",
       "      <td>gas</td>\n",
       "      <td>99.8</td>\n",
       "      <td>176.6</td>\n",
       "      <td>66.2</td>\n",
       "      <td>54.3</td>\n",
       "      <td>2337</td>\n",
       "      <td>109</td>\n",
       "      <td>3.19</td>\n",
       "      <td>3.40</td>\n",
       "      <td>10.0</td>\n",
       "      <td>102.0</td>\n",
       "      <td>5500.0</td>\n",
       "      <td>24</td>\n",
       "      <td>30</td>\n",
       "      <td>13950</td>\n",
       "    </tr>\n",
       "    <tr>\n",
       "      <th>4</th>\n",
       "      <td>gas</td>\n",
       "      <td>99.4</td>\n",
       "      <td>176.6</td>\n",
       "      <td>66.4</td>\n",
       "      <td>54.3</td>\n",
       "      <td>2824</td>\n",
       "      <td>136</td>\n",
       "      <td>3.19</td>\n",
       "      <td>3.40</td>\n",
       "      <td>8.0</td>\n",
       "      <td>115.0</td>\n",
       "      <td>5500.0</td>\n",
       "      <td>18</td>\n",
       "      <td>22</td>\n",
       "      <td>17450</td>\n",
       "    </tr>\n",
       "  </tbody>\n",
       "</table>\n",
       "</div>"
      ],
      "text/plain": [
       "  fuel_type  wheel_base  length  width  heights  curb_weight  engine_size  \\\n",
       "0       gas        88.6   168.8   64.1     48.8         2548          130   \n",
       "1       gas        88.6   168.8   64.1     48.8         2548          130   \n",
       "2       gas        94.5   171.2   65.5     52.4         2823          152   \n",
       "3       gas        99.8   176.6   66.2     54.3         2337          109   \n",
       "4       gas        99.4   176.6   66.4     54.3         2824          136   \n",
       "\n",
       "   bore  stroke  comprassion  horse_power  peak_rpm  city_mpg  highway_mpg  \\\n",
       "0  3.47    2.68          9.0        111.0    5000.0        21           27   \n",
       "1  3.47    2.68          9.0        111.0    5000.0        21           27   \n",
       "2  2.68    3.47          9.0        154.0    5000.0        19           26   \n",
       "3  3.19    3.40         10.0        102.0    5500.0        24           30   \n",
       "4  3.19    3.40          8.0        115.0    5500.0        18           22   \n",
       "\n",
       "   price  \n",
       "0  13495  \n",
       "1  16500  \n",
       "2  16500  \n",
       "3  13950  \n",
       "4  17450  "
      ]
     },
     "execution_count": 8,
     "metadata": {},
     "output_type": "execute_result"
    }
   ],
   "source": [
    "df2.head()"
   ]
  },
  {
   "cell_type": "markdown",
   "id": "776b5cda",
   "metadata": {},
   "source": [
    "### Drop all nan values"
   ]
  },
  {
   "cell_type": "code",
   "execution_count": 9,
   "id": "be7386d2",
   "metadata": {},
   "outputs": [
    {
     "name": "stdout",
     "output_type": "stream",
     "text": [
      "<class 'pandas.core.frame.DataFrame'>\n",
      "Int64Index: 195 entries, 0 to 200\n",
      "Data columns (total 15 columns):\n",
      " #   Column       Non-Null Count  Dtype  \n",
      "---  ------       --------------  -----  \n",
      " 0   fuel_type    195 non-null    object \n",
      " 1   wheel_base   195 non-null    float64\n",
      " 2   length       195 non-null    float64\n",
      " 3   width        195 non-null    float64\n",
      " 4   heights      195 non-null    float64\n",
      " 5   curb_weight  195 non-null    int64  \n",
      " 6   engine_size  195 non-null    int64  \n",
      " 7   bore         195 non-null    float64\n",
      " 8   stroke       195 non-null    float64\n",
      " 9   comprassion  195 non-null    float64\n",
      " 10  horse_power  195 non-null    float64\n",
      " 11  peak_rpm     195 non-null    float64\n",
      " 12  city_mpg     195 non-null    int64  \n",
      " 13  highway_mpg  195 non-null    int64  \n",
      " 14  price        195 non-null    int64  \n",
      "dtypes: float64(9), int64(5), object(1)\n",
      "memory usage: 24.4+ KB\n"
     ]
    }
   ],
   "source": [
    "## dropping all nan values\n",
    "df2 = df2.dropna()\n",
    "df2.info()"
   ]
  },
  {
   "cell_type": "code",
   "execution_count": 10,
   "id": "7d6a861b",
   "metadata": {
    "scrolled": false
   },
   "outputs": [
    {
     "data": {
      "text/plain": [
       "fuel_type      0\n",
       "wheel_base     0\n",
       "length         0\n",
       "width          0\n",
       "heights        0\n",
       "curb_weight    0\n",
       "engine_size    0\n",
       "bore           0\n",
       "stroke         0\n",
       "comprassion    0\n",
       "horse_power    0\n",
       "peak_rpm       0\n",
       "city_mpg       0\n",
       "highway_mpg    0\n",
       "price          0\n",
       "dtype: int64"
      ]
     },
     "execution_count": 10,
     "metadata": {},
     "output_type": "execute_result"
    }
   ],
   "source": [
    "df2.isnull().sum()\n"
   ]
  },
  {
   "cell_type": "markdown",
   "id": "077e84ea",
   "metadata": {},
   "source": [
    "### Get dummy variables for fuel_type within df2 drop first level"
   ]
  },
  {
   "cell_type": "code",
   "execution_count": 11,
   "id": "6a8862f5",
   "metadata": {},
   "outputs": [],
   "source": [
    "## Your code goes here\n",
    "df2 = pd.get_dummies(df2, columns=['fuel_type'], drop_first=True)"
   ]
  },
  {
   "cell_type": "code",
   "execution_count": 12,
   "id": "0be0d4db",
   "metadata": {},
   "outputs": [
    {
     "data": {
      "text/html": [
       "<div>\n",
       "<style scoped>\n",
       "    .dataframe tbody tr th:only-of-type {\n",
       "        vertical-align: middle;\n",
       "    }\n",
       "\n",
       "    .dataframe tbody tr th {\n",
       "        vertical-align: top;\n",
       "    }\n",
       "\n",
       "    .dataframe thead th {\n",
       "        text-align: right;\n",
       "    }\n",
       "</style>\n",
       "<table border=\"1\" class=\"dataframe\">\n",
       "  <thead>\n",
       "    <tr style=\"text-align: right;\">\n",
       "      <th></th>\n",
       "      <th>wheel_base</th>\n",
       "      <th>length</th>\n",
       "      <th>width</th>\n",
       "      <th>heights</th>\n",
       "      <th>curb_weight</th>\n",
       "      <th>engine_size</th>\n",
       "      <th>bore</th>\n",
       "      <th>stroke</th>\n",
       "      <th>comprassion</th>\n",
       "      <th>horse_power</th>\n",
       "      <th>peak_rpm</th>\n",
       "      <th>city_mpg</th>\n",
       "      <th>highway_mpg</th>\n",
       "      <th>price</th>\n",
       "      <th>fuel_type_gas</th>\n",
       "    </tr>\n",
       "  </thead>\n",
       "  <tbody>\n",
       "    <tr>\n",
       "      <th>0</th>\n",
       "      <td>88.6</td>\n",
       "      <td>168.8</td>\n",
       "      <td>64.1</td>\n",
       "      <td>48.8</td>\n",
       "      <td>2548</td>\n",
       "      <td>130</td>\n",
       "      <td>3.47</td>\n",
       "      <td>2.68</td>\n",
       "      <td>9.0</td>\n",
       "      <td>111.0</td>\n",
       "      <td>5000.0</td>\n",
       "      <td>21</td>\n",
       "      <td>27</td>\n",
       "      <td>13495</td>\n",
       "      <td>1</td>\n",
       "    </tr>\n",
       "    <tr>\n",
       "      <th>1</th>\n",
       "      <td>88.6</td>\n",
       "      <td>168.8</td>\n",
       "      <td>64.1</td>\n",
       "      <td>48.8</td>\n",
       "      <td>2548</td>\n",
       "      <td>130</td>\n",
       "      <td>3.47</td>\n",
       "      <td>2.68</td>\n",
       "      <td>9.0</td>\n",
       "      <td>111.0</td>\n",
       "      <td>5000.0</td>\n",
       "      <td>21</td>\n",
       "      <td>27</td>\n",
       "      <td>16500</td>\n",
       "      <td>1</td>\n",
       "    </tr>\n",
       "    <tr>\n",
       "      <th>2</th>\n",
       "      <td>94.5</td>\n",
       "      <td>171.2</td>\n",
       "      <td>65.5</td>\n",
       "      <td>52.4</td>\n",
       "      <td>2823</td>\n",
       "      <td>152</td>\n",
       "      <td>2.68</td>\n",
       "      <td>3.47</td>\n",
       "      <td>9.0</td>\n",
       "      <td>154.0</td>\n",
       "      <td>5000.0</td>\n",
       "      <td>19</td>\n",
       "      <td>26</td>\n",
       "      <td>16500</td>\n",
       "      <td>1</td>\n",
       "    </tr>\n",
       "    <tr>\n",
       "      <th>3</th>\n",
       "      <td>99.8</td>\n",
       "      <td>176.6</td>\n",
       "      <td>66.2</td>\n",
       "      <td>54.3</td>\n",
       "      <td>2337</td>\n",
       "      <td>109</td>\n",
       "      <td>3.19</td>\n",
       "      <td>3.40</td>\n",
       "      <td>10.0</td>\n",
       "      <td>102.0</td>\n",
       "      <td>5500.0</td>\n",
       "      <td>24</td>\n",
       "      <td>30</td>\n",
       "      <td>13950</td>\n",
       "      <td>1</td>\n",
       "    </tr>\n",
       "    <tr>\n",
       "      <th>4</th>\n",
       "      <td>99.4</td>\n",
       "      <td>176.6</td>\n",
       "      <td>66.4</td>\n",
       "      <td>54.3</td>\n",
       "      <td>2824</td>\n",
       "      <td>136</td>\n",
       "      <td>3.19</td>\n",
       "      <td>3.40</td>\n",
       "      <td>8.0</td>\n",
       "      <td>115.0</td>\n",
       "      <td>5500.0</td>\n",
       "      <td>18</td>\n",
       "      <td>22</td>\n",
       "      <td>17450</td>\n",
       "      <td>1</td>\n",
       "    </tr>\n",
       "  </tbody>\n",
       "</table>\n",
       "</div>"
      ],
      "text/plain": [
       "   wheel_base  length  width  heights  curb_weight  engine_size  bore  stroke  \\\n",
       "0        88.6   168.8   64.1     48.8         2548          130  3.47    2.68   \n",
       "1        88.6   168.8   64.1     48.8         2548          130  3.47    2.68   \n",
       "2        94.5   171.2   65.5     52.4         2823          152  2.68    3.47   \n",
       "3        99.8   176.6   66.2     54.3         2337          109  3.19    3.40   \n",
       "4        99.4   176.6   66.4     54.3         2824          136  3.19    3.40   \n",
       "\n",
       "   comprassion  horse_power  peak_rpm  city_mpg  highway_mpg  price  \\\n",
       "0          9.0        111.0    5000.0        21           27  13495   \n",
       "1          9.0        111.0    5000.0        21           27  16500   \n",
       "2          9.0        154.0    5000.0        19           26  16500   \n",
       "3         10.0        102.0    5500.0        24           30  13950   \n",
       "4          8.0        115.0    5500.0        18           22  17450   \n",
       "\n",
       "   fuel_type_gas  \n",
       "0              1  \n",
       "1              1  \n",
       "2              1  \n",
       "3              1  \n",
       "4              1  "
      ]
     },
     "execution_count": 12,
     "metadata": {},
     "output_type": "execute_result"
    }
   ],
   "source": [
    "df2.head()"
   ]
  },
  {
   "cell_type": "markdown",
   "id": "671c8e51",
   "metadata": {},
   "source": [
    "## 2.2 EDA on df2"
   ]
  },
  {
   "cell_type": "markdown",
   "id": "8ac7ba3e",
   "metadata": {},
   "source": [
    "Exploratory Data Analysis refers to the critical process of performing initial investigations on data so as to discover patterns,to spot anomalies,to test hypothesis and to check assumptions with the help of summary statistics and graphical representations.\n",
    "\n",
    "Follow the lecture notes for ideas of how to perform EDA on your dataset. For help, here are the steps we talked about:\n",
    "\n",
    "Suggested Steps in EDA:\n",
    "\n",
    "    Provide descriptions of your sample and features\n",
    "    Check for missing data\n",
    "    Identify the shape of your data\n",
    "    Identify significant correlations\n",
    "    Spot/deal with outliers in the dataset\n",
    "\n",
    "These steps are a guidline. Try different things and share your insights about the dataset (**df2**).\n",
    "\n",
    "Don't forget to add \"markdown\" cells to include your findings or to explain what you are doing\n"
   ]
  },
  {
   "cell_type": "markdown",
   "id": "e1f0378c",
   "metadata": {},
   "source": [
    "**Exploratory Data Analysis** \n",
    "describing the data shape of the data columns of the data "
   ]
  },
  {
   "cell_type": "code",
   "execution_count": 13,
   "id": "71708d38",
   "metadata": {},
   "outputs": [
    {
     "data": {
      "text/html": [
       "<div>\n",
       "<style scoped>\n",
       "    .dataframe tbody tr th:only-of-type {\n",
       "        vertical-align: middle;\n",
       "    }\n",
       "\n",
       "    .dataframe tbody tr th {\n",
       "        vertical-align: top;\n",
       "    }\n",
       "\n",
       "    .dataframe thead th {\n",
       "        text-align: right;\n",
       "    }\n",
       "</style>\n",
       "<table border=\"1\" class=\"dataframe\">\n",
       "  <thead>\n",
       "    <tr style=\"text-align: right;\">\n",
       "      <th></th>\n",
       "      <th>wheel_base</th>\n",
       "      <th>length</th>\n",
       "      <th>width</th>\n",
       "      <th>heights</th>\n",
       "      <th>curb_weight</th>\n",
       "      <th>engine_size</th>\n",
       "      <th>bore</th>\n",
       "      <th>stroke</th>\n",
       "      <th>comprassion</th>\n",
       "      <th>horse_power</th>\n",
       "      <th>peak_rpm</th>\n",
       "      <th>city_mpg</th>\n",
       "      <th>highway_mpg</th>\n",
       "      <th>price</th>\n",
       "      <th>fuel_type_gas</th>\n",
       "    </tr>\n",
       "  </thead>\n",
       "  <tbody>\n",
       "    <tr>\n",
       "      <th>0</th>\n",
       "      <td>88.6</td>\n",
       "      <td>168.8</td>\n",
       "      <td>64.1</td>\n",
       "      <td>48.8</td>\n",
       "      <td>2548</td>\n",
       "      <td>130</td>\n",
       "      <td>3.47</td>\n",
       "      <td>2.68</td>\n",
       "      <td>9.0</td>\n",
       "      <td>111.0</td>\n",
       "      <td>5000.0</td>\n",
       "      <td>21</td>\n",
       "      <td>27</td>\n",
       "      <td>13495</td>\n",
       "      <td>1</td>\n",
       "    </tr>\n",
       "    <tr>\n",
       "      <th>1</th>\n",
       "      <td>88.6</td>\n",
       "      <td>168.8</td>\n",
       "      <td>64.1</td>\n",
       "      <td>48.8</td>\n",
       "      <td>2548</td>\n",
       "      <td>130</td>\n",
       "      <td>3.47</td>\n",
       "      <td>2.68</td>\n",
       "      <td>9.0</td>\n",
       "      <td>111.0</td>\n",
       "      <td>5000.0</td>\n",
       "      <td>21</td>\n",
       "      <td>27</td>\n",
       "      <td>16500</td>\n",
       "      <td>1</td>\n",
       "    </tr>\n",
       "    <tr>\n",
       "      <th>2</th>\n",
       "      <td>94.5</td>\n",
       "      <td>171.2</td>\n",
       "      <td>65.5</td>\n",
       "      <td>52.4</td>\n",
       "      <td>2823</td>\n",
       "      <td>152</td>\n",
       "      <td>2.68</td>\n",
       "      <td>3.47</td>\n",
       "      <td>9.0</td>\n",
       "      <td>154.0</td>\n",
       "      <td>5000.0</td>\n",
       "      <td>19</td>\n",
       "      <td>26</td>\n",
       "      <td>16500</td>\n",
       "      <td>1</td>\n",
       "    </tr>\n",
       "    <tr>\n",
       "      <th>3</th>\n",
       "      <td>99.8</td>\n",
       "      <td>176.6</td>\n",
       "      <td>66.2</td>\n",
       "      <td>54.3</td>\n",
       "      <td>2337</td>\n",
       "      <td>109</td>\n",
       "      <td>3.19</td>\n",
       "      <td>3.40</td>\n",
       "      <td>10.0</td>\n",
       "      <td>102.0</td>\n",
       "      <td>5500.0</td>\n",
       "      <td>24</td>\n",
       "      <td>30</td>\n",
       "      <td>13950</td>\n",
       "      <td>1</td>\n",
       "    </tr>\n",
       "    <tr>\n",
       "      <th>4</th>\n",
       "      <td>99.4</td>\n",
       "      <td>176.6</td>\n",
       "      <td>66.4</td>\n",
       "      <td>54.3</td>\n",
       "      <td>2824</td>\n",
       "      <td>136</td>\n",
       "      <td>3.19</td>\n",
       "      <td>3.40</td>\n",
       "      <td>8.0</td>\n",
       "      <td>115.0</td>\n",
       "      <td>5500.0</td>\n",
       "      <td>18</td>\n",
       "      <td>22</td>\n",
       "      <td>17450</td>\n",
       "      <td>1</td>\n",
       "    </tr>\n",
       "  </tbody>\n",
       "</table>\n",
       "</div>"
      ],
      "text/plain": [
       "   wheel_base  length  width  heights  curb_weight  engine_size  bore  stroke  \\\n",
       "0        88.6   168.8   64.1     48.8         2548          130  3.47    2.68   \n",
       "1        88.6   168.8   64.1     48.8         2548          130  3.47    2.68   \n",
       "2        94.5   171.2   65.5     52.4         2823          152  2.68    3.47   \n",
       "3        99.8   176.6   66.2     54.3         2337          109  3.19    3.40   \n",
       "4        99.4   176.6   66.4     54.3         2824          136  3.19    3.40   \n",
       "\n",
       "   comprassion  horse_power  peak_rpm  city_mpg  highway_mpg  price  \\\n",
       "0          9.0        111.0    5000.0        21           27  13495   \n",
       "1          9.0        111.0    5000.0        21           27  16500   \n",
       "2          9.0        154.0    5000.0        19           26  16500   \n",
       "3         10.0        102.0    5500.0        24           30  13950   \n",
       "4          8.0        115.0    5500.0        18           22  17450   \n",
       "\n",
       "   fuel_type_gas  \n",
       "0              1  \n",
       "1              1  \n",
       "2              1  \n",
       "3              1  \n",
       "4              1  "
      ]
     },
     "execution_count": 13,
     "metadata": {},
     "output_type": "execute_result"
    }
   ],
   "source": [
    "## getting the top 5 rows of data\n",
    "df2.head()"
   ]
  },
  {
   "cell_type": "markdown",
   "id": "3f356fca",
   "metadata": {},
   "source": [
    "**DESCREPTION OF OUR DATA AND ITS FEATURES**"
   ]
  },
  {
   "cell_type": "code",
   "execution_count": 14,
   "id": "53a68818",
   "metadata": {},
   "outputs": [
    {
     "data": {
      "text/plain": [
       "(195, 15)"
      ]
     },
     "execution_count": 14,
     "metadata": {},
     "output_type": "execute_result"
    }
   ],
   "source": [
    "#shape of the data \n",
    "df2.shape"
   ]
  },
  {
   "cell_type": "markdown",
   "id": "4a953d35",
   "metadata": {},
   "source": [
    "here we get to know the number of rows and columns of the data which are 195 rows and 15 columns "
   ]
  },
  {
   "cell_type": "code",
   "execution_count": 15,
   "id": "b47247f8",
   "metadata": {},
   "outputs": [
    {
     "data": {
      "text/plain": [
       "Index(['wheel_base', 'length', 'width', 'heights', 'curb_weight',\n",
       "       'engine_size', 'bore', 'stroke', 'comprassion', 'horse_power',\n",
       "       'peak_rpm', 'city_mpg', 'highway_mpg', 'price', 'fuel_type_gas'],\n",
       "      dtype='object')"
      ]
     },
     "execution_count": 15,
     "metadata": {},
     "output_type": "execute_result"
    }
   ],
   "source": [
    "#columns of the data \n",
    "df2.columns"
   ]
  },
  {
   "cell_type": "markdown",
   "id": "48556b52",
   "metadata": {},
   "source": [
    "here we get the columns of the data or the features of the data "
   ]
  },
  {
   "cell_type": "code",
   "execution_count": 16,
   "id": "e33d0ec5",
   "metadata": {},
   "outputs": [
    {
     "data": {
      "text/plain": [
       "wheel_base       float64\n",
       "length           float64\n",
       "width            float64\n",
       "heights          float64\n",
       "curb_weight        int64\n",
       "engine_size        int64\n",
       "bore             float64\n",
       "stroke           float64\n",
       "comprassion      float64\n",
       "horse_power      float64\n",
       "peak_rpm         float64\n",
       "city_mpg           int64\n",
       "highway_mpg        int64\n",
       "price              int64\n",
       "fuel_type_gas      uint8\n",
       "dtype: object"
      ]
     },
     "execution_count": 16,
     "metadata": {},
     "output_type": "execute_result"
    }
   ],
   "source": [
    "#datatypes of the data\n",
    "df2.dtypes"
   ]
  },
  {
   "cell_type": "code",
   "execution_count": 17,
   "id": "310dcc5b",
   "metadata": {},
   "outputs": [
    {
     "data": {
      "text/html": [
       "<div>\n",
       "<style scoped>\n",
       "    .dataframe tbody tr th:only-of-type {\n",
       "        vertical-align: middle;\n",
       "    }\n",
       "\n",
       "    .dataframe tbody tr th {\n",
       "        vertical-align: top;\n",
       "    }\n",
       "\n",
       "    .dataframe thead th {\n",
       "        text-align: right;\n",
       "    }\n",
       "</style>\n",
       "<table border=\"1\" class=\"dataframe\">\n",
       "  <thead>\n",
       "    <tr style=\"text-align: right;\">\n",
       "      <th></th>\n",
       "      <th>wheel_base</th>\n",
       "      <th>length</th>\n",
       "      <th>width</th>\n",
       "      <th>heights</th>\n",
       "      <th>curb_weight</th>\n",
       "      <th>engine_size</th>\n",
       "      <th>bore</th>\n",
       "      <th>stroke</th>\n",
       "      <th>comprassion</th>\n",
       "      <th>horse_power</th>\n",
       "      <th>peak_rpm</th>\n",
       "      <th>city_mpg</th>\n",
       "      <th>highway_mpg</th>\n",
       "      <th>price</th>\n",
       "      <th>fuel_type_gas</th>\n",
       "    </tr>\n",
       "  </thead>\n",
       "  <tbody>\n",
       "    <tr>\n",
       "      <th>count</th>\n",
       "      <td>195.000000</td>\n",
       "      <td>195.000000</td>\n",
       "      <td>195.000000</td>\n",
       "      <td>195.000000</td>\n",
       "      <td>195.000000</td>\n",
       "      <td>195.000000</td>\n",
       "      <td>195.000000</td>\n",
       "      <td>195.000000</td>\n",
       "      <td>195.000000</td>\n",
       "      <td>195.000000</td>\n",
       "      <td>195.000000</td>\n",
       "      <td>195.000000</td>\n",
       "      <td>195.000000</td>\n",
       "      <td>195.000000</td>\n",
       "      <td>195.000000</td>\n",
       "    </tr>\n",
       "    <tr>\n",
       "      <th>mean</th>\n",
       "      <td>98.896410</td>\n",
       "      <td>174.256923</td>\n",
       "      <td>65.886154</td>\n",
       "      <td>53.861538</td>\n",
       "      <td>2559.000000</td>\n",
       "      <td>127.938462</td>\n",
       "      <td>3.329385</td>\n",
       "      <td>3.250308</td>\n",
       "      <td>10.194974</td>\n",
       "      <td>103.271795</td>\n",
       "      <td>5099.487179</td>\n",
       "      <td>25.374359</td>\n",
       "      <td>30.841026</td>\n",
       "      <td>13248.015385</td>\n",
       "      <td>0.897436</td>\n",
       "    </tr>\n",
       "    <tr>\n",
       "      <th>std</th>\n",
       "      <td>6.132038</td>\n",
       "      <td>12.476443</td>\n",
       "      <td>2.132484</td>\n",
       "      <td>2.396778</td>\n",
       "      <td>524.715799</td>\n",
       "      <td>41.433916</td>\n",
       "      <td>0.271866</td>\n",
       "      <td>0.314115</td>\n",
       "      <td>4.062109</td>\n",
       "      <td>37.869730</td>\n",
       "      <td>468.271381</td>\n",
       "      <td>6.401382</td>\n",
       "      <td>6.829315</td>\n",
       "      <td>8056.330093</td>\n",
       "      <td>0.304170</td>\n",
       "    </tr>\n",
       "    <tr>\n",
       "      <th>min</th>\n",
       "      <td>86.600000</td>\n",
       "      <td>141.100000</td>\n",
       "      <td>60.300000</td>\n",
       "      <td>47.800000</td>\n",
       "      <td>1488.000000</td>\n",
       "      <td>61.000000</td>\n",
       "      <td>2.540000</td>\n",
       "      <td>2.070000</td>\n",
       "      <td>7.000000</td>\n",
       "      <td>48.000000</td>\n",
       "      <td>4150.000000</td>\n",
       "      <td>13.000000</td>\n",
       "      <td>16.000000</td>\n",
       "      <td>5118.000000</td>\n",
       "      <td>0.000000</td>\n",
       "    </tr>\n",
       "    <tr>\n",
       "      <th>25%</th>\n",
       "      <td>94.500000</td>\n",
       "      <td>166.300000</td>\n",
       "      <td>64.050000</td>\n",
       "      <td>52.000000</td>\n",
       "      <td>2145.000000</td>\n",
       "      <td>98.000000</td>\n",
       "      <td>3.150000</td>\n",
       "      <td>3.110000</td>\n",
       "      <td>8.500000</td>\n",
       "      <td>70.000000</td>\n",
       "      <td>4800.000000</td>\n",
       "      <td>19.500000</td>\n",
       "      <td>25.000000</td>\n",
       "      <td>7756.500000</td>\n",
       "      <td>1.000000</td>\n",
       "    </tr>\n",
       "    <tr>\n",
       "      <th>50%</th>\n",
       "      <td>97.000000</td>\n",
       "      <td>173.200000</td>\n",
       "      <td>65.400000</td>\n",
       "      <td>54.100000</td>\n",
       "      <td>2414.000000</td>\n",
       "      <td>120.000000</td>\n",
       "      <td>3.310000</td>\n",
       "      <td>3.290000</td>\n",
       "      <td>9.000000</td>\n",
       "      <td>95.000000</td>\n",
       "      <td>5100.000000</td>\n",
       "      <td>25.000000</td>\n",
       "      <td>30.000000</td>\n",
       "      <td>10245.000000</td>\n",
       "      <td>1.000000</td>\n",
       "    </tr>\n",
       "    <tr>\n",
       "      <th>75%</th>\n",
       "      <td>102.400000</td>\n",
       "      <td>184.050000</td>\n",
       "      <td>66.900000</td>\n",
       "      <td>55.650000</td>\n",
       "      <td>2943.500000</td>\n",
       "      <td>145.500000</td>\n",
       "      <td>3.590000</td>\n",
       "      <td>3.410000</td>\n",
       "      <td>9.400000</td>\n",
       "      <td>116.000000</td>\n",
       "      <td>5500.000000</td>\n",
       "      <td>30.000000</td>\n",
       "      <td>35.000000</td>\n",
       "      <td>16509.000000</td>\n",
       "      <td>1.000000</td>\n",
       "    </tr>\n",
       "    <tr>\n",
       "      <th>max</th>\n",
       "      <td>120.900000</td>\n",
       "      <td>208.100000</td>\n",
       "      <td>72.000000</td>\n",
       "      <td>59.800000</td>\n",
       "      <td>4066.000000</td>\n",
       "      <td>326.000000</td>\n",
       "      <td>3.940000</td>\n",
       "      <td>4.170000</td>\n",
       "      <td>23.000000</td>\n",
       "      <td>262.000000</td>\n",
       "      <td>6600.000000</td>\n",
       "      <td>49.000000</td>\n",
       "      <td>54.000000</td>\n",
       "      <td>45400.000000</td>\n",
       "      <td>1.000000</td>\n",
       "    </tr>\n",
       "  </tbody>\n",
       "</table>\n",
       "</div>"
      ],
      "text/plain": [
       "       wheel_base      length       width     heights  curb_weight  \\\n",
       "count  195.000000  195.000000  195.000000  195.000000   195.000000   \n",
       "mean    98.896410  174.256923   65.886154   53.861538  2559.000000   \n",
       "std      6.132038   12.476443    2.132484    2.396778   524.715799   \n",
       "min     86.600000  141.100000   60.300000   47.800000  1488.000000   \n",
       "25%     94.500000  166.300000   64.050000   52.000000  2145.000000   \n",
       "50%     97.000000  173.200000   65.400000   54.100000  2414.000000   \n",
       "75%    102.400000  184.050000   66.900000   55.650000  2943.500000   \n",
       "max    120.900000  208.100000   72.000000   59.800000  4066.000000   \n",
       "\n",
       "       engine_size        bore      stroke  comprassion  horse_power  \\\n",
       "count   195.000000  195.000000  195.000000   195.000000   195.000000   \n",
       "mean    127.938462    3.329385    3.250308    10.194974   103.271795   \n",
       "std      41.433916    0.271866    0.314115     4.062109    37.869730   \n",
       "min      61.000000    2.540000    2.070000     7.000000    48.000000   \n",
       "25%      98.000000    3.150000    3.110000     8.500000    70.000000   \n",
       "50%     120.000000    3.310000    3.290000     9.000000    95.000000   \n",
       "75%     145.500000    3.590000    3.410000     9.400000   116.000000   \n",
       "max     326.000000    3.940000    4.170000    23.000000   262.000000   \n",
       "\n",
       "          peak_rpm    city_mpg  highway_mpg         price  fuel_type_gas  \n",
       "count   195.000000  195.000000   195.000000    195.000000     195.000000  \n",
       "mean   5099.487179   25.374359    30.841026  13248.015385       0.897436  \n",
       "std     468.271381    6.401382     6.829315   8056.330093       0.304170  \n",
       "min    4150.000000   13.000000    16.000000   5118.000000       0.000000  \n",
       "25%    4800.000000   19.500000    25.000000   7756.500000       1.000000  \n",
       "50%    5100.000000   25.000000    30.000000  10245.000000       1.000000  \n",
       "75%    5500.000000   30.000000    35.000000  16509.000000       1.000000  \n",
       "max    6600.000000   49.000000    54.000000  45400.000000       1.000000  "
      ]
     },
     "execution_count": 17,
     "metadata": {},
     "output_type": "execute_result"
    }
   ],
   "source": [
    "#describing the data \n",
    "df2.describe()"
   ]
  },
  {
   "cell_type": "markdown",
   "id": "ed59422a",
   "metadata": {},
   "source": [
    "Here by using the .describe() function we describe the data, we get the count , mean ,standard deviation, minimum, we get percentage quartile of 25%,50%,75%, and we get maximum of data in respect to each column."
   ]
  },
  {
   "cell_type": "code",
   "execution_count": 18,
   "id": "3304357b",
   "metadata": {},
   "outputs": [
    {
     "data": {
      "text/plain": [
       "wheel_base       0\n",
       "length           0\n",
       "width            0\n",
       "heights          0\n",
       "curb_weight      0\n",
       "engine_size      0\n",
       "bore             0\n",
       "stroke           0\n",
       "comprassion      0\n",
       "horse_power      0\n",
       "peak_rpm         0\n",
       "city_mpg         0\n",
       "highway_mpg      0\n",
       "price            0\n",
       "fuel_type_gas    0\n",
       "dtype: int64"
      ]
     },
     "execution_count": 18,
     "metadata": {},
     "output_type": "execute_result"
    }
   ],
   "source": [
    "#checking the missing values\n",
    "df2.isnull().sum()"
   ]
  },
  {
   "cell_type": "markdown",
   "id": "c54aaa4b",
   "metadata": {},
   "source": [
    "here we use .isnull() function to check the missing values and the sum funtion to sum the number of missing values in each column .\n",
    "as we see there is no missing value in any of the 15 columns."
   ]
  },
  {
   "cell_type": "markdown",
   "id": "720c59b4",
   "metadata": {},
   "source": [
    "**Balance of Data**"
   ]
  },
  {
   "cell_type": "code",
   "execution_count": 19,
   "id": "b368c1f6",
   "metadata": {},
   "outputs": [
    {
     "data": {
      "text/plain": [
       "fuel_type_gas\n",
       "1    175\n",
       "0     20\n",
       "dtype: int64"
      ]
     },
     "execution_count": 19,
     "metadata": {},
     "output_type": "execute_result"
    }
   ],
   "source": [
    "#value count of rows w.r.t fuel type\n",
    "df2.value_counts(\"fuel_type_gas\")"
   ]
  },
  {
   "cell_type": "markdown",
   "id": "9a6db183",
   "metadata": {},
   "source": [
    "we got to do the data balancing because we need to know how many count of automobiles are there of gas and diesel type in data we get to know that in the data there are 175 automobiles of fuel type **'1'** which means **gas** and 20 automobiles of **'0'** fuel type i.e ****diesel**."
   ]
  },
  {
   "cell_type": "markdown",
   "id": "be43e56d",
   "metadata": {},
   "source": [
    "**Corelation Analysis**"
   ]
  },
  {
   "cell_type": "code",
   "execution_count": 20,
   "id": "038ce4fc",
   "metadata": {},
   "outputs": [
    {
     "data": {
      "image/png": "[encoded data removed]",
      "text/plain": [
       "<Figure size 640x480 with 2 Axes>"
      ]
     },
     "metadata": {},
     "output_type": "display_data"
    }
   ],
   "source": [
    "correlation_matrix = df2.corr()\n",
    "alpha = 0.005\n",
    "significant_correlations = correlation_matrix[(correlation_matrix >= alpha) | (correlation_matrix <= -alpha)]\n",
    "sns.heatmap(significant_correlations, annot=True, cmap='coolwarm')\n",
    "plt.show()"
   ]
  },
  {
   "cell_type": "markdown",
   "id": "00b8b6d2",
   "metadata": {},
   "source": [
    "**OUTLIERS CHECK**"
   ]
  },
  {
   "cell_type": "code",
   "execution_count": 21,
   "id": "a073821c",
   "metadata": {},
   "outputs": [
    {
     "data": {
      "text/plain": [
       "<AxesSubplot:>"
      ]
     },
     "execution_count": 21,
     "metadata": {},
     "output_type": "execute_result"
    },
    {
     "data": {
      "image/png": "[encoded data removed]",
      "text/plain": [
       "<Figure size 640x480 with 1 Axes>"
      ]
     },
     "metadata": {},
     "output_type": "display_data"
    }
   ],
   "source": [
    "sns.boxplot(data=df2)"
   ]
  },
  {
   "cell_type": "code",
   "execution_count": 22,
   "metadata": {},
   "outputs": [
    {
     "name": "stdout",
     "output_type": "stream",
     "text": [
      "Stored 'df2' (DataFrame)\n"
     ]
    }
   ],
   "source": [
    "%store df2"
   ]
  },
  {
   "cell_type": "markdown",
   "id": "370404b0",
   "metadata": {},
   "source": [
    "here we plot a box plot to check the outliers"
   ]
  },
  {
   "cell_type": "markdown",
   "id": "77fabed2",
   "metadata": {},
   "source": [
    "## 3. Multiple Regression Analysis ! Use the df2 dataset!"
   ]
  },
  {
   "cell_type": "markdown",
   "id": "f56943b0",
   "metadata": {},
   "source": [
    "**1. Create a model that uses all the variables** and call it model1. The dependent variable is price, the independent variables are all the rest. Print out a summary of the model (coefficents, stanrard errors, confidence intervals and other metrics shown in class and answer the quesions based on your output."
   ]
  },
  {
   "cell_type": "code",
   "execution_count": 23,
   "id": "680d7827",
   "metadata": {},
   "outputs": [
    {
     "name": "stdout",
     "output_type": "stream",
     "text": [
      "                            OLS Regression Results                            \n",
      "==============================================================================\n",
      "Dep. Variable:                  price   R-squared:                       0.860\n",
      "Model:                            OLS   Adj. R-squared:                  0.849\n",
      "Method:                 Least Squares   F-statistic:                     78.89\n",
      "Date:                Sun, 19 Nov 2023   Prob (F-statistic):           5.84e-69\n",
      "Time:                        14:18:59   Log-Likelihood:                -1838.5\n",
      "No. Observations:                 195   AIC:                             3707.\n",
      "Df Residuals:                     180   BIC:                             3756.\n",
      "Df Model:                          14                                         \n",
      "Covariance Type:            nonrobust                                         \n",
      "=================================================================================\n",
      "                    coef    std err          t      P>|t|      [0.025      0.975]\n",
      "---------------------------------------------------------------------------------\n",
      "const          -4.45e+04   1.84e+04     -2.419      0.017   -8.08e+04   -8194.301\n",
      "wheel_base       39.5305    103.549      0.382      0.703    -164.796     243.857\n",
      "length          -60.6333     58.500     -1.036      0.301    -176.068      54.801\n",
      "width           603.6414    254.539      2.372      0.019     101.377    1105.906\n",
      "heights         329.5669    140.947      2.338      0.020      51.446     607.688\n",
      "curb_weight       1.1798      1.738      0.679      0.498      -2.249       4.609\n",
      "engine_size     138.4537     16.111      8.594      0.000     106.662     170.245\n",
      "bore          -1208.4137   1206.683     -1.001      0.318   -3589.479    1172.651\n",
      "stroke        -3706.0531    874.513     -4.238      0.000   -5431.669   -1980.437\n",
      "comprassion    -617.1497    446.452     -1.382      0.169   -1498.103     263.804\n",
      "horse_power      34.6328     18.049      1.919      0.057      -0.982      70.248\n",
      "peak_rpm          2.5517      0.709      3.599      0.000       1.153       3.951\n",
      "city_mpg       -288.2868    180.791     -1.595      0.113    -645.030      68.456\n",
      "highway_mpg     316.6334    163.540      1.936      0.054      -6.069     639.336\n",
      "fuel_type_gas -1.173e+04   6002.268     -1.955      0.052   -2.36e+04     110.854\n",
      "==============================================================================\n",
      "Omnibus:                       18.136   Durbin-Watson:                   0.978\n",
      "Prob(Omnibus):                  0.000   Jarque-Bera (JB):               55.211\n",
      "Skew:                           0.240   Prob(JB):                     1.03e-12\n",
      "Kurtosis:                       5.562   Cond. No.                     4.77e+05\n",
      "==============================================================================\n",
      "\n",
      "Notes:\n",
      "[1] Standard Errors assume that the covariance matrix of the errors is correctly specified.\n",
      "[2] The condition number is large, 4.77e+05. This might indicate that there are\n",
      "strong multicollinearity or other numerical problems.\n"
     ]
    }
   ],
   "source": [
    "##Your code goes here\n",
    "X = df2.drop(columns=[\"price\"])  # All columns except \"price\"\n",
    "y = df2[\"price\"]\n",
    "# Add a constant (intercept) to the independent variables\n",
    "X = sm.add_constant(X)\n",
    "\n",
    "# Create the linear regression model\n",
    "model1 = sm.OLS(y, X).fit()\n",
    "\n",
    "# Print the model summary\n",
    "print(model1.summary())"
   ]
  },
  {
   "cell_type": "code",
   "execution_count": 36,
   "metadata": {},
   "outputs": [],
   "source": [
    "import pickle\n",
    "with open('model1.pkl', 'wb') as file:\n",
    "    pickle.dump(model1, file)\n"
   ]
  },
  {
   "cell_type": "markdown",
   "id": "e0f4ad5e",
   "metadata": {},
   "source": [
    "1. How do you interpret the intercept?\n",
    "2. How many variables are statistically significant?\n",
    "3. What is the variance of the model?\n",
    "4. What is the coefficeint of determination and how do you interpret it?\n",
    "5. What is the F-statistics used for? How do you interpret it for this model?"
   ]
  },
  {
   "cell_type": "markdown",
   "id": "c2d229a4",
   "metadata": {},
   "source": [
    "**Answer 1:** The intercept in a linear regression model represents the estimated value of the dependent variable when all the independent variables are set to zero. Here the intercept, which is approximately -44,500, represents the estimated value of the dependent variable (\"price\") when all independent variables are zero. However, in this context, it may not have a meaningful interpretation since many of the independent variables, such as \"wheel_base,\" \"length,\" \"width,\" etc., cannot be zero in a practical sense.\n",
    "\n",
    "**Answer 2:** Statistically significant variables are those independent variables in a regression model that have a significant impact on the dependent variable. Here we measure the statistically significant variables based on the alpha level here we take alpha level as 0.005 so by lookink at the \"P>|t|\" column in the summary. Variables with p-values less than your chosen significance level (alpha) are considered statistically significant. In this case:\n",
    "\"width,\" \"heights,\" \"engine_size,\" \"stroke,\" \"peak_rpm,\" and \"fuel_type_gas\" have p-values less than 0.05, indicating statistical significance.\n",
    "\n",
    "**Answer 3:** so here (R-squared: 0.860) i.e variance is 0.860x100=86%.\n",
    "\n",
    "**Answer 4:** The coefficient of determination, often denoted as R-squared.\n",
    "R-squared can take values between 0 and 1, and i is interpreted as:\n",
    "\n",
    "R-squared = 0:  The model does not fit the data at all.\n",
    "R-squared = 1:  The model fits the data perfectly.\n",
    "\n",
    "**Answer 5:** The F-statistic (F-statistic: 78.89) is used to test whether the model as a whole is statistically significant. Here the F statistic is 78.89, and the associated p-value (Prob (F-statistic)) is very close to zero (5.84e-69).This means that at least one independent variable has a significant effect on the dependent variable, \"price.\""
   ]
  },
  {
   "cell_type": "markdown",
   "id": "2f6bde01",
   "metadata": {},
   "source": [
    "**2. Drop all the variables that are not statistically significant** at least at 90% confidence level. Run another regression model with price as the dependent variable and the rest of the variables as the independent variabls. Call it model2. Print a summary of the results and answer the questions bellow. "
   ]
  },
  {
   "cell_type": "code",
   "execution_count": 25,
   "id": "2eb015d7",
   "metadata": {},
   "outputs": [
    {
     "name": "stdout",
     "output_type": "stream",
     "text": [
      "                            OLS Regression Results                            \n",
      "==============================================================================\n",
      "Dep. Variable:                  price   R-squared:                       0.854\n",
      "Model:                            OLS   Adj. R-squared:                  0.848\n",
      "Method:                 Least Squares   F-statistic:                     136.5\n",
      "Date:                Sun, 19 Nov 2023   Prob (F-statistic):           1.29e-73\n",
      "Time:                        14:18:59   Log-Likelihood:                -1842.2\n",
      "No. Observations:                 195   AIC:                             3702.\n",
      "Df Residuals:                     186   BIC:                             3732.\n",
      "Df Model:                           8                                         \n",
      "Covariance Type:            nonrobust                                         \n",
      "=================================================================================\n",
      "                    coef    std err          t      P>|t|      [0.025      0.975]\n",
      "---------------------------------------------------------------------------------\n",
      "const         -6.156e+04   1.49e+04     -4.138      0.000   -9.09e+04   -3.22e+04\n",
      "width           566.4440    196.395      2.884      0.004     178.995     953.893\n",
      "heights         289.5923    113.100      2.561      0.011      66.470     512.715\n",
      "engine_size     131.2899     13.724      9.566      0.000     104.215     158.365\n",
      "stroke        -2942.0083    775.472     -3.794      0.000   -4471.859   -1412.158\n",
      "horse_power      43.1639     15.720      2.746      0.007      12.152      74.176\n",
      "peak_rpm          2.3532      0.639      3.683      0.000       1.093       3.614\n",
      "highway_mpg      39.9588     69.437      0.575      0.566     -97.027     176.944\n",
      "fuel_type_gas -3384.0156    998.300     -3.390      0.001   -5353.463   -1414.568\n",
      "==============================================================================\n",
      "Omnibus:                       18.233   Durbin-Watson:                   0.944\n",
      "Prob(Omnibus):                  0.000   Jarque-Bera (JB):               61.116\n",
      "Skew:                           0.177   Prob(JB):                     5.36e-14\n",
      "Kurtosis:                       5.720   Cond. No.                     3.39e+05\n",
      "==============================================================================\n",
      "\n",
      "Notes:\n",
      "[1] Standard Errors assume that the covariance matrix of the errors is correctly specified.\n",
      "[2] The condition number is large, 3.39e+05. This might indicate that there are\n",
      "strong multicollinearity or other numerical problems.\n"
     ]
    }
   ],
   "source": [
    "##creating a model2\n",
    "significant_vars = model1.pvalues[model1.pvalues <= 0.1].index\n",
    "\n",
    "# Create model2 with only the significant variables\n",
    "X_model2 = X[significant_vars]  # X is the matrix of independent variables with the constant\n",
    "model2 = sm.OLS(y, X_model2).fit()\n",
    "\n",
    "# Print a summary of the results for model2\n",
    "print(model2.summary())"
   ]
  },
  {
   "cell_type": "markdown",
   "id": "226123c0",
   "metadata": {},
   "source": [
    "1. How do you interpret the intercept?\n",
    "2. How many variables are statistically significant?\n",
    "3. What is the variance of the model?\n",
    "4. What is the coefficeint of determination and how do you interpret it? What is the Adjusted R-squared and compare it to the model1's value. \n",
    "5. What is the F-statistics used for? How do you interpret it for this model?"
   ]
  },
  {
   "cell_type": "markdown",
   "id": "a960fc4f",
   "metadata": {},
   "source": [
    "**Answer 1:** The intercept in a linear regression model represents the estimated value of the dependent variable when all the independent variables are set to zero. Here the intercept, which is approximately -61,560 represents the estimated value of the dependent variable (\"price\") when all independent variables are zero. However, in this context, it may not have a meaningful interpretation since many of the independent variables, such as \"wheel_base,\" \"length,\" \"width,\" etc., cannot be zero in a practical sense.\n",
    "\n",
    "**Answer 2:** Statistically significant variables are those independent variables in a regression model that have a significant impact on the dependent variable. Here we measure the statistically significant variables based on the alpha level here we take alpha level as 0.005 so by lookink at the \"P>|t|\" column in the summary. Variables with p-values less than your chosen significance level (alpha) are considered statistically significant. In this case also:\n",
    "\"width,\" \"heights,\" \"engine_size,\" \"stroke,\" \"peak_rpm,\" and \"fuel_type_gas\" have p-values less than 0.05, indicating statistical significance.\n",
    "\n",
    "**Answer 3:** so here (R-squared: 0.854) i.e variance is \n",
    "0.854x100=85.4%.\n",
    "\n",
    "**Answer 4:** The coefficient of determination, often denoted as R-squared.\n",
    "R-squared can take values between 0 and 1, and i is interpreted as:\n",
    "\n",
    "R-squared = 0:  The model does not fit the data at all.\n",
    "R-squared = 1:  The model fits the data perfectly.\n",
    "Adjusted R-squared (Adj. R-squared: 0.848) is a variation of R-squared that adjusts for the number of independent variables in the model. It provides a more conservative estimate of the goodness of fit. In this case, the adjusted R-squared is slightly lower than the regular R-squared, which is expected when there are multiple independent variables. An adjusted R-squared closer to 1 indicates a better fit.Comparing this model's adjusted R-squared to the previous model (model1) shows that the adjusted R-squared value for this model is slightly lower (0.848 vs. 0.849), which suggests that this model might be a slightly worse fit, possibly due to the inclusion of fewer independent variables.\n",
    "\n",
    "**Answer 5:** The F-statistic (F-statistic: 136.8) is used to test whether the model as a whole is statistically significant. Here the F statistic is 136.8, and the associated p-value (Prob (F-statistic) 1.29e-73) is very close to zero ().This means that at least one independent variable has a significant effect on the dependent variable, \"price.\"\n",
    "\n"
   ]
  },
  {
   "cell_type": "markdown",
   "id": "994a73f8",
   "metadata": {},
   "source": [
    "**3. Compare the two models with ANOVA**. What are your null and alternative hypothesis? What is your conclusion?"
   ]
  },
  {
   "cell_type": "code",
   "execution_count": 26,
   "id": "89ff4f32",
   "metadata": {},
   "outputs": [
    {
     "name": "stdout",
     "output_type": "stream",
     "text": [
      "   df_resid           ssr  df_diff       ss_diff        F  Pr(>F)\n",
      "0     180.0  1.764456e+09      0.0           NaN      NaN     NaN\n",
      "1     186.0  1.832575e+09     -6.0 -6.811918e+07  1.15231     NaN\n"
     ]
    }
   ],
   "source": [
    "##getting the ANOVA results\n",
    "anova_results = sm.stats.anova_lm(model1, model2)\n",
    "print(anova_results)\n",
    "\n",
    "\n",
    "\n",
    "\n",
    "\n",
    "\n",
    "\n",
    "\n",
    "\n"
   ]
  },
  {
   "cell_type": "markdown",
   "id": "27fbf874",
   "metadata": {},
   "source": [
    "**ANSWER:** Here:\n",
    "\n",
    "**df_resid**: Degrees of freedom for the residuals.\n",
    "\n",
    "**ssr**: Sum of squared residuals.\n",
    "\n",
    "**df_diff**: Difference in degrees of freedom between the two models.\n",
    "\n",
    "**ss_diff**: Difference in the sum of squared residuals between the two models.\n",
    "\n",
    "**F**: F-statistic, which measures the ratio of explained variance to unexplained variance.\n",
    "\n",
    "**Pr(>F)**: The p-value associated with the F-statistic.\n",
    "\n",
    "Now , \n",
    "The null hypothesis (H0) typically states that there is no significant difference between the two models, while the alternative hypothesis (H1) suggests that there is a significant difference between the models in terms of explaining the variance in the dependent variable.\n",
    "\n",
    "**Null Hypothesis (H0):** The two models are equal in terms of explaining the variance in the dependent variable.\n",
    "\n",
    "**Alternative Hypothesis (H1):** The two models are not equal; at least one of them is significantly better at explaining the variance in the dependent variable.\n",
    " Now, by looking at the he p-value (Pr(>F)) which is not provided (NaN).i.e there is no significant diffrence between the two models, from this we can conclude that it Fails to Reject the Null Hypothesis."
   ]
  },
  {
   "cell_type": "markdown",
   "id": "65dbf4e5",
   "metadata": {},
   "source": [
    "**4.Checking the assumptions:**\n",
    "\n",
    "-What are the assumptions?\n",
    "\n",
    "-Do they hold?"
   ]
  },
  {
   "cell_type": "markdown",
   "id": "a6f1a0b1",
   "metadata": {},
   "source": [
    "**LINERARITY ASSUMPTION**"
   ]
  },
  {
   "cell_type": "code",
   "execution_count": 27,
   "id": "a3960878",
   "metadata": {},
   "outputs": [
    {
     "name": "stderr",
     "output_type": "stream",
     "text": [
      "c:\\Users\\ARHAAM DANIYAL SYED\\anaconda3\\lib\\site-packages\\seaborn\\_decorators.py:36: FutureWarning: Pass the following variables as keyword args: x, y. From version 0.12, the only valid positional argument will be `data`, and passing other arguments without an explicit keyword will result in an error or misinterpretation.\n",
      "  warnings.warn(\n"
     ]
    },
    {
     "data": {
      "image/png": "[encoded data removed]",
      "text/plain": [
       "<Figure size 640x480 with 1 Axes>"
      ]
     },
     "metadata": {},
     "output_type": "display_data"
    },
    {
     "name": "stderr",
     "output_type": "stream",
     "text": [
      "c:\\Users\\ARHAAM DANIYAL SYED\\anaconda3\\lib\\site-packages\\seaborn\\_decorators.py:36: FutureWarning: Pass the following variables as keyword args: x, y. From version 0.12, the only valid positional argument will be `data`, and passing other arguments without an explicit keyword will result in an error or misinterpretation.\n",
      "  warnings.warn(\n"
     ]
    },
    {
     "data": {
      "image/png": "[encoded data removed]",
      "text/plain": [
       "<Figure size 640x480 with 1 Axes>"
      ]
     },
     "metadata": {},
     "output_type": "display_data"
    }
   ],
   "source": [
    "# Check Linearity Assumption\n",
    "plt.figure()\n",
    "plt.subplot()\n",
    "sns.scatterplot(model1.fittedvalues, model1.resid)\n",
    "plt.title(\"Model 1 - Linearity Check\")\n",
    "plt.xlabel(\"Fitted Values\")\n",
    "plt.ylabel(\"Residuals\")\n",
    "plt.show()\n",
    "\n",
    "\n",
    "plt.subplot()\n",
    "sns.scatterplot(model2.fittedvalues, model2.resid)\n",
    "plt.title(\"Model 2 - Linearity Check\")\n",
    "plt.xlabel(\"Fitted Values\")\n",
    "plt.ylabel(\"Residuals\")\n",
    "plt.show()\n",
    "\n",
    "\n",
    "\n",
    "\n",
    "\n",
    "\n"
   ]
  },
  {
   "cell_type": "markdown",
   "id": "0a4d3567",
   "metadata": {},
   "source": [
    "**ANSWER** \n",
    "  the Linearity Assumption appears to hold as there are no apparent trends or non-linear patterns in the scatterplots."
   ]
  },
  {
   "cell_type": "markdown",
   "id": "83609b22",
   "metadata": {},
   "source": [
    "**INDEPENDENCE ASSUMPTION**"
   ]
  },
  {
   "cell_type": "code",
   "execution_count": 28,
   "id": "0f6944a0",
   "metadata": {},
   "outputs": [
    {
     "name": "stdout",
     "output_type": "stream",
     "text": [
      "Durbin-Watson Statistic Model 1: 0.9784765574137844\n",
      "Durbin-Watson Statistic Model 2: 0.9437520872376977\n"
     ]
    }
   ],
   "source": [
    " ##Checking Independence Assumption (Durbin-Watson)\n",
    "dw_model1 = sm.stats.stattools.durbin_watson(model1.resid)\n",
    "dw_model2 = sm.stats.stattools.durbin_watson(model2.resid)\n",
    "print(f\"Durbin-Watson Statistic Model 1: {dw_model1}\")\n",
    "print(f\"Durbin-Watson Statistic Model 2: {dw_model2}\")"
   ]
  },
  {
   "cell_type": "markdown",
   "id": "c99a1fcc",
   "metadata": {},
   "source": [
    "**ANSWER** \n",
    "IN the Durbin-Watson statistic if it is  close to 2, it indicates no significant autocorrelation (independence holds).\n",
    "\n",
    "**For Model 1**, the Durbin-Watson statistic is approximately 0.9785, which is close to 2. This suggests that there is no significant positive or negative autocorrelation in the residuals of Model 1. Therefore, the Independence Assumption appears to hold for Model 1.\n",
    "\n",
    "**For Model 2**, the Durbin-Watson statistic is approximately 0.9437, which is also close to 2. This suggests that there is no significant positive or negative autocorrelation in the residuals of Model 2. Therefore, the Independence Assumption appears to hold for Model 2 as well."
   ]
  },
  {
   "cell_type": "markdown",
   "id": "ee6a154f",
   "metadata": {},
   "source": [
    "**CONSTANT VARIANCE ASSUPTION**"
   ]
  },
  {
   "cell_type": "code",
   "execution_count": 29,
   "id": "ca4cd07c",
   "metadata": {},
   "outputs": [
    {
     "name": "stdout",
     "output_type": "stream",
     "text": [
      "Breusch-Pagan Test for Model 1:\n",
      "LM Statistic: 77.88393057396733\n",
      "P-value: 6.971426693132045e-11\n",
      "\n",
      "Breusch-Pagan Test for Model 2:\n",
      "LM Statistic: 76.52993116063654\n",
      "P-value: 2.4347792106587913e-13\n"
     ]
    }
   ],
   "source": [
    "# Checking for  Constant Variance Assumption\n",
    "from statsmodels.stats.diagnostic import het_breuschpagan\n",
    "\n",
    "# For Model 1\n",
    "bp_test1 = het_breuschpagan(model1.resid, model1.model.exog)\n",
    "print(\"Breusch-Pagan Test for Model 1:\")\n",
    "print(f\"LM Statistic: {bp_test1[0]}\")\n",
    "print(f\"P-value: {bp_test1[1]}\")\n",
    "\n",
    "# For Model 2\n",
    "bp_test2 = het_breuschpagan(model2.resid, model2.model.exog)\n",
    "print(\"\\nBreusch-Pagan Test for Model 2:\")\n",
    "print(f\"LM Statistic: {bp_test2[0]}\")\n",
    "print(f\"P-value: {bp_test2[1]}\")"
   ]
  },
  {
   "cell_type": "markdown",
   "id": "62c10171",
   "metadata": {},
   "source": [
    "**ANSWER**\n",
    "\n",
    "The Breusch-Pagan test is used to check for the assumption of constant variance (homoscedasticity) in a linear regression model. Specifically, it assesses whether the variance of the residuals is constant across different levels of the independent variables. A significant p-value in the Breusch-Pagan test indicates the presence of heteroscedasticity, which violates the constant variance assumption.\n",
    "Both Model 1 and Model 2 have very low p-values (much less than the typical significance level of 0.05), indicating that the null hypothesis of constant variance is rejected. This suggests that there is evidence of heteroscedasticity in both models, meaning that the variance of the residuals is not constant across different levels of the independent variables.\n"
   ]
  },
  {
   "cell_type": "markdown",
   "id": "617e7e5f",
   "metadata": {},
   "source": [
    "**NORMALITY ASSUMPTION CHECK**\n"
   ]
  },
  {
   "cell_type": "code",
   "execution_count": 30,
   "id": "cba3c15a",
   "metadata": {},
   "outputs": [
    {
     "name": "stdout",
     "output_type": "stream",
     "text": [
      "Jarque-Bera Statistic: 55.210777002807724\n",
      "P-value: 1.0259639549714608e-12\n",
      "Skewness: 0.24046525207000505\n",
      "Kurtosis: 5.562006714350951\n",
      "Jarque-Bera Statistic: 61.1158800947105\n",
      "P-value: 5.356181179043409e-14\n",
      "Skewness: 0.17693582710287825\n",
      "Kurtosis: 5.719692873385673\n"
     ]
    }
   ],
   "source": [
    "# Importing required library\n",
    "from statsmodels.stats.stattools import jarque_bera\n",
    "# Get the residuals from the model1\n",
    "residuals = model1.resid\n",
    "\n",
    "# Perform the Jarque-Bera test\n",
    "jb_statistic, jb_pvalue, skewness, kurtosis = jarque_bera(residuals)\n",
    "\n",
    "# Print the test results\n",
    "print(f\"Jarque-Bera Statistic: {jb_statistic}\")\n",
    "print(f\"P-value: {jb_pvalue}\")\n",
    "print(f\"Skewness: {skewness}\")\n",
    "print(f\"Kurtosis: {kurtosis}\")\n",
    "\n",
    "# Get the residuals from the model2\n",
    "residuals = model2.resid\n",
    "\n",
    "# Perform the Jarque-Bera test\n",
    "jb_statistic, jb_pvalue, skewness, kurtosis = jarque_bera(residuals)\n",
    "\n",
    "# Print the test results\n",
    "print(f\"Jarque-Bera Statistic: {jb_statistic}\")\n",
    "print(f\"P-value: {jb_pvalue}\")\n",
    "print(f\"Skewness: {skewness}\")\n",
    "print(f\"Kurtosis: {kurtosis}\")"
   ]
  },
  {
   "cell_type": "markdown",
   "id": "f694b58d",
   "metadata": {},
   "source": [
    "**ANSWER**\n",
    "The Jarque-Bera test statistic is high (55.21), and the associated p-value is  low (approximately 1.03e-12), which is much smaller than the commonly chosen significance level of 0.05.\n",
    "i.e that the normality assumption for the residuals in the  regression model is violated and it does not hold normality assumption for model 1. \n",
    "Simillarly for model 2 we get \n",
    "The Jarque-Bera test statistic is high (61.11), and the associated p-value is  low (approximately 1.025e-12), which is much smaller than the commonly chosen significance level of 0.05.\n",
    "i.e that the normality assumption for the residuals in the  regression model is violated and it does not hold normality assumption for model 2. \n",
    "\n"
   ]
  },
  {
   "cell_type": "markdown",
   "id": "6a1fa97f",
   "metadata": {},
   "source": [
    "**5. Is there Multicollinearity in your data?**"
   ]
  },
  {
   "cell_type": "code",
   "execution_count": 31,
   "id": "2df0526c",
   "metadata": {},
   "outputs": [
    {
     "name": "stdout",
     "output_type": "stream",
     "text": [
      "Condition Number for Model 1: 476678.68868056\n",
      "Condition Number for Model 2: 339347.8089704866\n"
     ]
    }
   ],
   "source": [
    "# Calculate the condition number for Model 1\n",
    "X1 = model1.model.exog  # Get the design matrix for Model 1\n",
    "condition_number_model1 = np.linalg.cond(X1)\n",
    "\n",
    "# Calculate the condition number for Model 2\n",
    "X2 = model2.model.exog  # Get the design matrix for Model 2\n",
    "condition_number_model2 = np.linalg.cond(X2)\n",
    "\n",
    "# Print the condition numbers\n",
    "print(\"Condition Number for Model 1:\", condition_number_model1)\n",
    "print(\"Condition Number for Model 2:\", condition_number_model2)\n",
    " \n",
    "\n",
    "\n",
    "\n",
    "\n",
    "\n"
   ]
  },
  {
   "cell_type": "markdown",
   "id": "99bc50ea",
   "metadata": {},
   "source": [
    "**ANSWER**\n",
    "\n",
    "**Multicollinearity**, in simple terms, is a situation in a statistical analysis where two or more independent variables in a model are strongly related to each other.\n",
    "Here, we use the conditional number of both the modles to measure the multicollinearity.\n",
    " condition number close to 1 indicates that the independent variables does not hold  multicollinearity.\n",
    "A condition number much larger than 1,  suggests that the independent variables are highly correlate and hold  multicollinearity.\n",
    "\n",
    "In **Model 1**, the condition number is approximately 476679 and in **Model 2**, it's approximately 339347. Both of these values are significantly larger than 1, which suggests that the independent variables in both models are highly correlated with each other. therefore high multicollinearty exsists in our models...\n",
    " "
   ]
  },
  {
   "cell_type": "markdown",
   "id": "6de5c1aa",
   "metadata": {},
   "source": []
  }
 ],
 "metadata": {
  "kernelspec": {
   "display_name": "Python 3 (ipykernel)",
   "language": "python",
   "name": "python3"
  },
  "language_info": {
   "codemirror_mode": {
    "name": "ipython",
    "version": 3
   },
   "file_extension": ".py",
   "mimetype": "text/x-python",
   "name": "python",
   "nbconvert_exporter": "python",
   "pygments_lexer": "ipython3",
   "version": "3.9.13"
  }
 },
 "nbformat": 4,
 "nbformat_minor": 5
}
